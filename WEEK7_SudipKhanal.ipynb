{
  "cells": [
    {
      "cell_type": "markdown",
      "metadata": {
        "id": "LZiic2xb5Cut"
      },
      "source": [
        "regression task"
      ]
    },
    {
      "cell_type": "code",
      "execution_count": null,
      "metadata": {
        "colab": {
          "base_uri": "https://localhost:8080/"
        },
        "id": "0IXqRuFWzqzG",
        "outputId": "897d58db-ed1c-4279-bde0-833657baf359"
      },
      "outputs": [
        {
          "name": "stdout",
          "output_type": "stream",
          "text": [
            "Drive already mounted at /content/drive; to attempt to forcibly remount, call drive.mount(\"/content/drive\", force_remount=True).\n",
            "Pregnancies                 0\n",
            "Glucose                     0\n",
            "BloodPressure               0\n",
            "SkinThickness               0\n",
            "Insulin                     0\n",
            "BMI                         0\n",
            "DiabetesPedigreeFunction    0\n",
            "Age                         0\n",
            "Outcome                     0\n",
            "dtype: int64\n"
          ]
        }
      ],
      "source": [
        "from google.colab import drive\n",
        "drive.mount('/content/drive')\n",
        "\n",
        "import pandas as pd\n",
        "import numpy as np\n",
        "\n",
        "filepath=\"/content/drive/MyDrive/AI-ML/diabetes.csv\"\n",
        "df=pd.read_csv(filepath)\n",
        "df.head()\n",
        "feature_cols=['Pregnancies', 'Glucose', 'SkinThickness','Insulin','BMI','Age','DiabetesPedigreeFunction']\n",
        "X=df[feature_cols]#features\n",
        "y=df.BloodPressure#target variables\n",
        "print(df.isnull().sum())\n",
        "#no need for data filling"
      ]
    },
    {
      "cell_type": "code",
      "execution_count": null,
      "metadata": {
        "id": "0epvt7ym1lR4"
      },
      "outputs": [],
      "source": [
        "from sklearn.model_selection import train_test_split\n",
        "\n",
        "X_train_reg, X_test_reg, y_train_reg, y_test_reg = train_test_split(X, y, test_size=0.2, random_state=42)\n"
      ]
    },
    {
      "cell_type": "code",
      "execution_count": null,
      "metadata": {
        "colab": {
          "base_uri": "https://localhost:8080/"
        },
        "id": "bOdW206w2wOK",
        "outputId": "247c5e2d-d18b-47ae-902c-2e6e2fcca09c"
      },
      "outputs": [
        {
          "name": "stdout",
          "output_type": "stream",
          "text": [
            "Regression Task:\n",
            "Mean Squared Error (MSE): 408.8020357692284\n",
            "R2 Score: 0.1821346640077789\n"
          ]
        }
      ],
      "source": [
        "from sklearn.linear_model import LinearRegression\n",
        "from sklearn.metrics import mean_squared_error, r2_score\n",
        "\n",
        "# Train\n",
        "linear_regressor = LinearRegression()\n",
        "linear_regressor.fit(X_train_reg, y_train_reg)\n",
        "\n",
        "# Predict on test data\n",
        "y_pred_reg = linear_regressor.predict(X_test_reg)\n",
        "\n",
        "# Evaluate\n",
        "print(\"Regression Task:\")\n",
        "print(\"Mean Squared Error (MSE):\", mean_squared_error(y_test_reg, y_pred_reg))\n",
        "print(\"R2 Score:\", r2_score(y_test_reg, y_pred_reg))\n"
      ]
    },
    {
      "cell_type": "markdown",
      "metadata": {
        "id": "QAUDAAyw3ewX"
      },
      "source": [
        "classification task"
      ]
    },
    {
      "cell_type": "markdown",
      "metadata": {
        "id": "6erDokFo-ivx"
      },
      "source": [
        "logistic regression"
      ]
    },
    {
      "cell_type": "code",
      "execution_count": null,
      "metadata": {
        "id": "_1PwWKcR3maT"
      },
      "outputs": [],
      "source": [
        "X_clf = df.drop(columns=['Outcome'])  #feature\n",
        "y_clf = df['Outcome']  #target\n",
        "\n",
        "X_train_clf, X_test_clf, y_train_clf, y_test_clf = train_test_split(X_clf, y_clf, test_size=0.2, random_state=42)\n"
      ]
    },
    {
      "cell_type": "code",
      "execution_count": null,
      "metadata": {
        "colab": {
          "base_uri": "https://localhost:8080/"
        },
        "id": "K9L0dNtM24pg",
        "outputId": "65c06eda-f2e5-44ea-8429-e3d8efd3058a"
      },
      "outputs": [
        {
          "name": "stdout",
          "output_type": "stream",
          "text": [
            "\n",
            "Classification Task (Logistic Regression):\n",
            "Accuracy: 0.7467532467532467\n",
            "Precision: 0.6379310344827587\n",
            "Recall: 0.6727272727272727\n",
            "F1 Score: 0.6548672566371682\n",
            "Confusion Matrix:\n",
            " [[78 21]\n",
            " [18 37]]\n"
          ]
        }
      ],
      "source": [
        "from sklearn.linear_model import LogisticRegression\n",
        "from sklearn.metrics import accuracy_score, precision_score, recall_score, f1_score, confusion_matrix\n",
        "\n",
        "# Train\n",
        "logistic_regressor = LogisticRegression(max_iter=1000)\n",
        "logistic_regressor.fit(X_train_clf, y_train_clf)\n",
        "\n",
        "# Predict\n",
        "y_pred_clf_log = logistic_regressor.predict(X_test_clf)\n",
        "\n",
        "# Evaluate\n",
        "print(\"\\nClassification Task (Logistic Regression):\")\n",
        "print(\"Accuracy:\", accuracy_score(y_test_clf, y_pred_clf_log))\n",
        "print(\"Precision:\", precision_score(y_test_clf, y_pred_clf_log))\n",
        "print(\"Recall:\", recall_score(y_test_clf, y_pred_clf_log))\n",
        "print(\"F1 Score:\", f1_score(y_test_clf, y_pred_clf_log))\n",
        "print(\"Confusion Matrix:\\n\", confusion_matrix(y_test_clf, y_pred_clf_log))\n"
      ]
    },
    {
      "cell_type": "markdown",
      "metadata": {
        "id": "IUibWyNM5qMH"
      },
      "source": [
        "k-nearest"
      ]
    },
    {
      "cell_type": "code",
      "execution_count": null,
      "metadata": {
        "colab": {
          "base_uri": "https://localhost:8080/"
        },
        "id": "2rerCPjc5r-S",
        "outputId": "2726c157-59ec-43ed-f6af-4d948afeafbd"
      },
      "outputs": [
        {
          "name": "stdout",
          "output_type": "stream",
          "text": [
            "\n",
            "Classification Task (KNN):\n",
            "Accuracy: 0.6623376623376623\n",
            "Precision: 0.5245901639344263\n",
            "Recall: 0.5818181818181818\n",
            "F1 Score: 0.5517241379310345\n",
            "Confusion Matrix:\n",
            " [[70 29]\n",
            " [23 32]]\n"
          ]
        }
      ],
      "source": [
        "from sklearn.neighbors import KNeighborsClassifier\n",
        "\n",
        "# Train\n",
        "knn_classifier = KNeighborsClassifier(n_neighbors=5)\n",
        "knn_classifier.fit(X_train_clf, y_train_clf)\n",
        "\n",
        "# Predict\n",
        "y_pred_clf_knn = knn_classifier.predict(X_test_clf)\n",
        "\n",
        "# Evaluate\n",
        "print(\"\\nClassification Task (KNN):\")\n",
        "print(\"Accuracy:\", accuracy_score(y_test_clf, y_pred_clf_knn))\n",
        "print(\"Precision:\", precision_score(y_test_clf, y_pred_clf_knn))\n",
        "print(\"Recall:\", recall_score(y_test_clf, y_pred_clf_knn))\n",
        "print(\"F1 Score:\", f1_score(y_test_clf, y_pred_clf_knn))\n",
        "print(\"Confusion Matrix:\\n\", confusion_matrix(y_test_clf, y_pred_clf_knn))\n"
      ]
    }
  ],
  "metadata": {
    "colab": {
      "provenance": []
    },
    "kernelspec": {
      "display_name": "Python 3",
      "name": "python3"
    },
    "language_info": {
      "name": "python"
    }
  },
  "nbformat": 4,
  "nbformat_minor": 0
}
